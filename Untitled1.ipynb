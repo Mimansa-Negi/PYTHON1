{
  "nbformat": 4,
  "nbformat_minor": 0,
  "metadata": {
    "colab": {
      "name": "Untitled1.ipynb",
      "provenance": [],
      "authorship_tag": "ABX9TyOb3draUVllG08xeJ17Rrjm",
      "include_colab_link": true
    },
    "kernelspec": {
      "name": "python3",
      "display_name": "Python 3"
    },
    "language_info": {
      "name": "python"
    }
  },
  "cells": [
    {
      "cell_type": "markdown",
      "metadata": {
        "id": "view-in-github",
        "colab_type": "text"
      },
      "source": [
        "<a href=\"https://colab.research.google.com/github/Mimansa-Negi/PYTHON1/blob/main/Untitled1.ipynb\" target=\"_parent\"><img src=\"https://colab.research.google.com/assets/colab-badge.svg\" alt=\"Open In Colab\"/></a>"
      ]
    },
    {
      "cell_type": "markdown",
      "metadata": {
        "id": "3m1r4oU_kXy6"
      },
      "source": [
        "lambda function to add two numbers"
      ]
    },
    {
      "cell_type": "code",
      "metadata": {
        "colab": {
          "base_uri": "https://localhost:8080/"
        },
        "id": "04qwoIrrkcs-",
        "outputId": "75b2398c-0c88-45d5-fd44-89af271efa35"
      },
      "source": [
        "x=lambda a,b:a+b\n",
        "print(x(10,20))"
      ],
      "execution_count": 2,
      "outputs": [
        {
          "output_type": "stream",
          "text": [
            "30\n"
          ],
          "name": "stdout"
        }
      ]
    },
    {
      "cell_type": "markdown",
      "metadata": {
        "id": "dKG5d9Zjkn2Z"
      },
      "source": [
        "lambda function to find greatest number"
      ]
    },
    {
      "cell_type": "code",
      "metadata": {
        "colab": {
          "base_uri": "https://localhost:8080/"
        },
        "id": "q-2RwiZykh7M",
        "outputId": "b6ca9d42-0fbc-48f7-9d43-e0215ad63fb8"
      },
      "source": [
        "x=(lambda n,m:(n>m and n or m))\n",
        "print(x(10,16))"
      ],
      "execution_count": 3,
      "outputs": [
        {
          "output_type": "stream",
          "text": [
            "16\n"
          ],
          "name": "stdout"
        }
      ]
    },
    {
      "cell_type": "markdown",
      "metadata": {
        "id": "0pvTGuOjlLPi"
      },
      "source": [
        "lambda function to find even or odd"
      ]
    },
    {
      "cell_type": "code",
      "metadata": {
        "colab": {
          "base_uri": "https://localhost:8080/"
        },
        "id": "RxB1Pq1qlFIT",
        "outputId": "1dcd8cd4-4b3d-4c43-9288-8235c22d9c19"
      },
      "source": [
        "x=(lambda x:(x%2 and 'odd' or 'even'))\n",
        "print(x(9))"
      ],
      "execution_count": 4,
      "outputs": [
        {
          "output_type": "stream",
          "text": [
            "odd\n"
          ],
          "name": "stdout"
        }
      ]
    },
    {
      "cell_type": "markdown",
      "metadata": {
        "id": "h_gAhVLkllbY"
      },
      "source": [
        "lambda inside a function"
      ]
    },
    {
      "cell_type": "code",
      "metadata": {
        "colab": {
          "base_uri": "https://localhost:8080/"
        },
        "id": "THtW1b8ple1K",
        "outputId": "d3c569cd-cd75-49f5-acd3-16a53e0bf9c7"
      },
      "source": [
        "def double(n):\n",
        "  return lambda a:a*n\n",
        "cal=double(2)\n",
        "print(cal(4))"
      ],
      "execution_count": 6,
      "outputs": [
        {
          "output_type": "stream",
          "text": [
            "8\n"
          ],
          "name": "stdout"
        }
      ]
    },
    {
      "cell_type": "markdown",
      "metadata": {
        "id": "gOJukMFGmGXm"
      },
      "source": [
        "lambda with filter()"
      ]
    },
    {
      "cell_type": "code",
      "metadata": {
        "colab": {
          "base_uri": "https://localhost:8080/"
        },
        "id": "rltgEyx3l1z7",
        "outputId": "c0f53271-5e3f-4683-86d7-ffec08cdcdf9"
      },
      "source": [
        "numbers=[1,3,6,2,7,5,8,4,9,0]\n",
        "result=filter(lambda x:x<5, numbers)\n",
        "print(numbers)\n",
        "print(list(result))"
      ],
      "execution_count": 8,
      "outputs": [
        {
          "output_type": "stream",
          "text": [
            "[1, 3, 6, 2, 7, 5, 8, 4, 9, 0]\n",
            "[1, 3, 2, 4, 0]\n"
          ],
          "name": "stdout"
        }
      ]
    },
    {
      "cell_type": "markdown",
      "metadata": {
        "id": "xNVffc89mkzj"
      },
      "source": [
        "lambda with map()"
      ]
    },
    {
      "cell_type": "code",
      "metadata": {
        "colab": {
          "base_uri": "https://localhost:8080/"
        },
        "id": "TxYoOpALmYyG",
        "outputId": "946adcbc-4c0b-41f9-fb89-544effc8f3ea"
      },
      "source": [
        "def square(n):\n",
        "  return n*n\n",
        "result=map(square,[1,2,3,4])\n",
        "print(list(result))"
      ],
      "execution_count": 9,
      "outputs": [
        {
          "output_type": "stream",
          "text": [
            "[1, 4, 9, 16]\n"
          ],
          "name": "stdout"
        }
      ]
    },
    {
      "cell_type": "markdown",
      "metadata": {
        "id": "6_OAx2gjm7d1"
      },
      "source": [
        "lambda with reduce(()"
      ]
    },
    {
      "cell_type": "code",
      "metadata": {
        "colab": {
          "base_uri": "https://localhost:8080/"
        },
        "id": "ysTpVya3m1Ns",
        "outputId": "e03f8c44-04ee-4958-cae0-1b2bce5c2ced"
      },
      "source": [
        "from functools import reduce\n",
        "numbers=[1,2,3,4,5]\n",
        "prod=reduce(lambda x,y:x*y,numbers)\n",
        "print(prod)"
      ],
      "execution_count": 11,
      "outputs": [
        {
          "output_type": "stream",
          "text": [
            "120\n"
          ],
          "name": "stdout"
        }
      ]
    },
    {
      "cell_type": "markdown",
      "metadata": {
        "id": "WTvUYWigoMKC"
      },
      "source": [
        "addition of two numbers without + operators"
      ]
    },
    {
      "cell_type": "code",
      "metadata": {
        "colab": {
          "base_uri": "https://localhost:8080/"
        },
        "id": "4_ak318wnZpY",
        "outputId": "dce0edf5-7191-4a83-b916-508a71737492"
      },
      "source": [
        "n,m=5,6\n",
        "print(n-(-m))"
      ],
      "execution_count": 13,
      "outputs": [
        {
          "output_type": "stream",
          "text": [
            "11\n"
          ],
          "name": "stdout"
        }
      ]
    },
    {
      "cell_type": "markdown",
      "metadata": {
        "id": "Xfqc5vOYooL9"
      },
      "source": [
        "substraction of two numbers without - operators"
      ]
    },
    {
      "cell_type": "code",
      "metadata": {
        "colab": {
          "base_uri": "https://localhost:8080/"
        },
        "id": "w72GzciFojzI",
        "outputId": "7b5218af-60a9-4f3b-e567-39688eb8c701"
      },
      "source": [
        "n,m=19,8\n",
        "print(n+(~m+1))"
      ],
      "execution_count": 16,
      "outputs": [
        {
          "output_type": "stream",
          "text": [
            "11\n"
          ],
          "name": "stdout"
        }
      ]
    },
    {
      "cell_type": "markdown",
      "metadata": {
        "id": "PsOICgZep1Sz"
      },
      "source": [
        "multiplication of two numbers without using * operators"
      ]
    },
    {
      "cell_type": "code",
      "metadata": {
        "colab": {
          "base_uri": "https://localhost:8080/"
        },
        "id": "bbRtnk-LpIj4",
        "outputId": "3dd93a69-8eef-455a-8f0f-3c413cdf05f1"
      },
      "source": [
        "n,m=7,8\n",
        "sum=0\n",
        "for i in range(1,n+1):\n",
        "   sum=sum+m\n",
        "print(sum)"
      ],
      "execution_count": 20,
      "outputs": [
        {
          "output_type": "stream",
          "text": [
            "56\n"
          ],
          "name": "stdout"
        }
      ]
    },
    {
      "cell_type": "markdown",
      "metadata": {
        "id": "3-ae8tM2qRoH"
      },
      "source": [
        "division of two numbers without using / operators"
      ]
    },
    {
      "cell_type": "code",
      "metadata": {
        "id": "-fY7FiH4qIZy"
      },
      "source": [
        ""
      ],
      "execution_count": null,
      "outputs": []
    }
  ]
}