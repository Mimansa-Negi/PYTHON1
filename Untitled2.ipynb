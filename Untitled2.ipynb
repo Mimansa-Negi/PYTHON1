{
  "nbformat": 4,
  "nbformat_minor": 0,
  "metadata": {
    "colab": {
      "name": "Untitled2.ipynb",
      "provenance": [],
      "collapsed_sections": [],
      "authorship_tag": "ABX9TyPEvde0ge2K7deW5pI/8VY6",
      "include_colab_link": true
    },
    "kernelspec": {
      "name": "python3",
      "display_name": "Python 3"
    },
    "language_info": {
      "name": "python"
    }
  },
  "cells": [
    {
      "cell_type": "markdown",
      "metadata": {
        "id": "view-in-github",
        "colab_type": "text"
      },
      "source": [
        "<a href=\"https://colab.research.google.com/github/Mimansa-Negi/PYTHON1/blob/main/Untitled2.ipynb\" target=\"_parent\"><img src=\"https://colab.research.google.com/assets/colab-badge.svg\" alt=\"Open In Colab\"/></a>"
      ]
    },
    {
      "cell_type": "markdown",
      "metadata": {
        "id": "Lw9HoZyFcvoh"
      },
      "source": [
        "QUEUE-SIMPLE"
      ]
    },
    {
      "cell_type": "code",
      "metadata": {
        "colab": {
          "base_uri": "https://localhost:8080/"
        },
        "id": "IgF3BBCHdC9_",
        "outputId": "4de44cdf-3a30-467b-a683-45afce0fc93a"
      },
      "source": [
        "class Queue:\n",
        "  def __init__(self):\n",
        "    self.queue=[]\n",
        "  def enqueue(self,item):\n",
        "    return self.queue.append(item)\n",
        "  def dequeue(self):\n",
        "    if len(self.queue)<1:\n",
        "      return None\n",
        "    return self.queue.pop(0)\n",
        "  def display(self):\n",
        "    print(self.queue)\n",
        "  def size(self):\n",
        "    return len(self.queue)\n",
        "\n",
        "q=Queue()\n",
        "q.enqueue(90)\n",
        "q.enqueue(89)\n",
        "q.enqueue(88)\n",
        "q.display()\n",
        "q.dequeue()\n",
        "q.display()\n"
      ],
      "execution_count": 15,
      "outputs": [
        {
          "output_type": "stream",
          "text": [
            "[90, 89, 88]\n",
            "[89, 88]\n"
          ],
          "name": "stdout"
        }
      ]
    },
    {
      "cell_type": "markdown",
      "metadata": {
        "id": "vw6hUbBUkuHW"
      },
      "source": [
        "CIRCULAR QUEUE:\n"
      ]
    },
    {
      "cell_type": "code",
      "metadata": {
        "colab": {
          "base_uri": "https://localhost:8080/"
        },
        "id": "w-kJAvkHiLK9",
        "outputId": "6a8d35cd-f6cb-4cda-a9e1-6d80bd5283b7"
      },
      "source": [
        "\n",
        "class MyCirQueue:\n",
        "  def __init__(self,k):\n",
        "    self.k=k\n",
        "    self.queue=[None]*k\n",
        "    self.head=self.tail=-1\n",
        "  def enqueue(self,item):\n",
        "    if(self.tail+1)%self.k==self.head:\n",
        "      print(\"The queue is full\")\n",
        "    elif(self.head==-1):\n",
        "      self.head=0\n",
        "      self.tail=0\n",
        "      self.queue[self.tail]=item\n",
        "    else:\n",
        "      self.tail=(self.tail+1)%self.k\n",
        "      self.queue[self.tail]=item\n",
        "  def dequeue(self):\n",
        "    if(self.head==-1):\n",
        "      print(\"queue is empty\")\n",
        "    elif(self.head==self.tail):\n",
        "      temp=self.queue[self.head]\n",
        "      self.head=-1\n",
        "      self.tail=-1\n",
        "      return temp\n",
        "    else:\n",
        "      temp=self.queue[self.head]\n",
        "      self.head=(self.head+1)%self.k\n",
        "      return temp\n",
        "  def display(self):\n",
        "    if(self.head==-1):\n",
        "      print(\"nothing to display\")\n",
        "    elif(self.tail>=self.head):\n",
        "      for i in range(self.head,self.tail+1):\n",
        "        print(self.queue[i],end=\" \")\n",
        "      print()\n",
        "    else:\n",
        "      for i in range(self.head,self.k):\n",
        "        print(self.queue[i],end=\" \")\n",
        "      for i in range(0,self.tail+1):\n",
        "        print(self.queue[i],end=\" \")\n",
        "      print()\n",
        "\n",
        "q=MyCirQueue(6)\n",
        "q.enqueue(1)\n",
        "q.enqueue(2)\n",
        "q.enqueue(89)\n",
        "q.enqueue(90)\n",
        "q.enqueue(91)\n",
        "q.enqueue(92)\n",
        "q.display()\n",
        "q.dequeue()\n",
        "q.display()\n",
        "\n"
      ],
      "execution_count": 35,
      "outputs": [
        {
          "output_type": "stream",
          "text": [
            "1 2 89 90 91 92 \n",
            "2 89 90 91 92 \n"
          ],
          "name": "stdout"
        }
      ]
    },
    {
      "cell_type": "markdown",
      "metadata": {
        "id": "zm6TTHyv6rIM"
      },
      "source": [
        "STACK"
      ]
    },
    {
      "cell_type": "code",
      "metadata": {
        "colab": {
          "base_uri": "https://localhost:8080/"
        },
        "id": "h6CCqJlmtygy",
        "outputId": "ec0809f0-ffec-441e-b18d-c3abcee602a1"
      },
      "source": [
        "def create_stack():\n",
        "  stack=[]\n",
        "  return stack\n",
        "def check_empty(stack):\n",
        "  return len(stack)==0\n",
        "def push(stack,item):\n",
        "  stack.append(item)\n",
        "  print(item)\n",
        "def pop(stack):\n",
        "  if (check_empty(stack)):\n",
        "    return \"stackisempty\"\n",
        "  return stack.pop()\n",
        "stack=create_stack()\n",
        "push(stack,str(1))\n",
        "push(stack,str(2))\n",
        "\n"
      ],
      "execution_count": 48,
      "outputs": [
        {
          "output_type": "stream",
          "text": [
            "1\n",
            "2\n"
          ],
          "name": "stdout"
        }
      ]
    },
    {
      "cell_type": "code",
      "metadata": {
        "id": "7D1_iQ7g7u0u"
      },
      "source": [
        ""
      ],
      "execution_count": null,
      "outputs": []
    }
  ]
}