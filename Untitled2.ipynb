{
  "nbformat": 4,
  "nbformat_minor": 0,
  "metadata": {
    "colab": {
      "name": "Untitled2.ipynb",
      "provenance": [],
      "collapsed_sections": [],
      "authorship_tag": "ABX9TyO2pVdf2rkWW34ePNltmG2J",
      "include_colab_link": true
    },
    "kernelspec": {
      "display_name": "Python 3",
      "name": "python3"
    },
    "language_info": {
      "name": "python"
    }
  },
  "cells": [
    {
      "cell_type": "markdown",
      "metadata": {
        "id": "view-in-github",
        "colab_type": "text"
      },
      "source": [
        "<a href=\"https://colab.research.google.com/github/Mimansa-Negi/PYTHON1/blob/main/Untitled2.ipynb\" target=\"_parent\"><img src=\"https://colab.research.google.com/assets/colab-badge.svg\" alt=\"Open In Colab\"/></a>"
      ]
    },
    {
      "cell_type": "markdown",
      "metadata": {
        "id": "Lw9HoZyFcvoh"
      },
      "source": [
        "QUEUE-SIMPLE"
      ]
    },
    {
      "cell_type": "code",
      "metadata": {
        "colab": {
          "base_uri": "https://localhost:8080/"
        },
        "id": "IgF3BBCHdC9_",
        "outputId": "4de44cdf-3a30-467b-a683-45afce0fc93a"
      },
      "source": [
        "class Queue:\n",
        "  def __init__(self):\n",
        "    self.queue=[]\n",
        "  def enqueue(self,item):\n",
        "    return self.queue.append(item)\n",
        "  def dequeue(self):\n",
        "    if len(self.queue)<1:\n",
        "      return None\n",
        "    return self.queue.pop(0)\n",
        "  def display(self):\n",
        "    print(self.queue)\n",
        "  def size(self):\n",
        "    return len(self.queue)\n",
        "\n",
        "q=Queue()\n",
        "q.enqueue(90)\n",
        "q.enqueue(89)\n",
        "q.enqueue(88)\n",
        "q.display()\n",
        "q.dequeue()\n",
        "q.display()\n"
      ],
      "execution_count": null,
      "outputs": [
        {
          "output_type": "stream",
          "text": [
            "[90, 89, 88]\n",
            "[89, 88]\n"
          ],
          "name": "stdout"
        }
      ]
    },
    {
      "cell_type": "markdown",
      "metadata": {
        "id": "vw6hUbBUkuHW"
      },
      "source": [
        "CIRCULAR QUEUE:\n"
      ]
    },
    {
      "cell_type": "code",
      "metadata": {
        "colab": {
          "base_uri": "https://localhost:8080/"
        },
        "id": "w-kJAvkHiLK9",
        "outputId": "6a8d35cd-f6cb-4cda-a9e1-6d80bd5283b7"
      },
      "source": [
        "\n",
        "class MyCirQueue:\n",
        "  def __init__(self,k):\n",
        "    self.k=k\n",
        "    self.queue=[None]*k\n",
        "    self.head=self.tail=-1\n",
        "  def enqueue(self,item):\n",
        "    if(self.tail+1)%self.k==self.head:\n",
        "      print(\"The queue is full\")\n",
        "    elif(self.head==-1):\n",
        "      self.head=0\n",
        "      self.tail=0\n",
        "      self.queue[self.tail]=item\n",
        "    else:\n",
        "      self.tail=(self.tail+1)%self.k\n",
        "      self.queue[self.tail]=item\n",
        "  def dequeue(self):\n",
        "    if(self.head==-1):\n",
        "      print(\"queue is empty\")\n",
        "    elif(self.head==self.tail):\n",
        "      temp=self.queue[self.head]\n",
        "      self.head=-1\n",
        "      self.tail=-1\n",
        "      return temp\n",
        "    else:\n",
        "      temp=self.queue[self.head]\n",
        "      self.head=(self.head+1)%self.k\n",
        "      return temp\n",
        "  def display(self):\n",
        "    if(self.head==-1):\n",
        "      print(\"nothing to display\")\n",
        "    elif(self.tail>=self.head):\n",
        "      for i in range(self.head,self.tail+1):\n",
        "        print(self.queue[i],end=\" \")\n",
        "      print()\n",
        "    else:\n",
        "      for i in range(self.head,self.k):\n",
        "        print(self.queue[i],end=\" \")\n",
        "      for i in range(0,self.tail+1):\n",
        "        print(self.queue[i],end=\" \")\n",
        "      print()\n",
        "\n",
        "q=MyCirQueue(6)\n",
        "q.enqueue(1)\n",
        "q.enqueue(2)\n",
        "q.enqueue(89)\n",
        "q.enqueue(90)\n",
        "q.enqueue(91)\n",
        "q.enqueue(92)\n",
        "q.display()\n",
        "q.dequeue()\n",
        "q.display()\n",
        "\n"
      ],
      "execution_count": null,
      "outputs": [
        {
          "output_type": "stream",
          "text": [
            "1 2 89 90 91 92 \n",
            "2 89 90 91 92 \n"
          ],
          "name": "stdout"
        }
      ]
    },
    {
      "cell_type": "markdown",
      "metadata": {
        "id": "zm6TTHyv6rIM"
      },
      "source": [
        "STACK"
      ]
    },
    {
      "cell_type": "code",
      "metadata": {
        "colab": {
          "base_uri": "https://localhost:8080/"
        },
        "id": "h6CCqJlmtygy",
        "outputId": "ec0809f0-ffec-441e-b18d-c3abcee602a1"
      },
      "source": [
        "def create_stack():\n",
        "  stack=[]\n",
        "  return stack\n",
        "def check_empty(stack):\n",
        "  return len(stack)==0\n",
        "def push(stack,item):\n",
        "  stack.append(item)\n",
        "  print(item)\n",
        "def pop(stack):\n",
        "  if (check_empty(stack)):\n",
        "    return \"stackisempty\"\n",
        "  return stack.pop()\n",
        "stack=create_stack()\n",
        "push(stack,str(1))\n",
        "push(stack,str(2))\n",
        "\n"
      ],
      "execution_count": null,
      "outputs": [
        {
          "output_type": "stream",
          "text": [
            "1\n",
            "2\n"
          ],
          "name": "stdout"
        }
      ]
    },
    {
      "cell_type": "markdown",
      "metadata": {
        "id": "XnJvhjr7Uz_I"
      },
      "source": [
        "CREATING A DOUBLE LINKED LIST"
      ]
    },
    {
      "cell_type": "code",
      "metadata": {
        "colab": {
          "base_uri": "https://localhost:8080/"
        },
        "id": "7D1_iQ7g7u0u",
        "outputId": "878a9bc1-fe75-4d8a-e3b7-bf0d4f974379"
      },
      "source": [
        "class Node:\n",
        "  def __init__(self,data):\n",
        "    self.data=data\n",
        "    self.prev=None\n",
        "    self.next=None\n",
        "class DLL:\n",
        "  def __init__(self):\n",
        "    self.head=None\n",
        "  def display(self):\n",
        "    if self.head is None:\n",
        "      print(\"empty\")\n",
        "    else:\n",
        "      temp=self.head\n",
        "      while temp:\n",
        "        print(temp.data,\"-->\",end=\"\")\n",
        "        temp=temp.next\n",
        "\n",
        "\n",
        "\n",
        "l=DLL()\n",
        "l.display()\n",
        "n1=Node(10)\n",
        "l.head=n1\n",
        "n2=Node(20)\n",
        "n2.prev=n1\n",
        "n1.next=n2\n",
        "n3=Node(30)\n",
        "n3.prev=n2\n",
        "n2.next=n3\n",
        "l.display()   "
      ],
      "execution_count": null,
      "outputs": [
        {
          "output_type": "stream",
          "text": [
            "empty\n",
            "10 -->20 -->30 -->"
          ],
          "name": "stdout"
        }
      ]
    },
    {
      "cell_type": "markdown",
      "metadata": {
        "id": "bBds1udne1_C"
      },
      "source": [
        "DOUBLE LINKED LIST INSERTION"
      ]
    },
    {
      "cell_type": "code",
      "metadata": {
        "colab": {
          "base_uri": "https://localhost:8080/"
        },
        "id": "uxLz479DWVMX",
        "outputId": "06e6f390-7be6-41d0-d7d8-1e827c834cf7"
      },
      "source": [
        "class Node:\n",
        "  def __init__(self,data):\n",
        "    self.data=data\n",
        "    self.prev=None\n",
        "    self.next=None\n",
        "class DLL:\n",
        "  def __init__(self):\n",
        "    self.head=None\n",
        "  def display(self):\n",
        "    if self.head is None:\n",
        "      print(\"empty\")\n",
        "    else:\n",
        "      temp=self.head\n",
        "      while temp:\n",
        "        print(temp.data,\"-->\",end=\"\")\n",
        "        temp=temp.next\n",
        "  def insert_beginning(self,data):\n",
        "    n=Node(5)\n",
        "    temp=self.head\n",
        "    temp.prev=n\n",
        "    n.next=temp\n",
        "    self.head=n\n",
        "\n",
        "\n",
        "\n",
        "l=DLL()\n",
        "l.display()\n",
        "n1=Node(10)\n",
        "l.head=n1\n",
        "n2=Node(20)\n",
        "n2.prev=n1\n",
        "n1.next=n2\n",
        "n3=Node(30)\n",
        "n3.prev=n2\n",
        "n2.next=n3\n",
        "l.display()\n",
        "l.insert_beginning(20)\n",
        "l.display   "
      ],
      "execution_count": 2,
      "outputs": [
        {
          "output_type": "stream",
          "text": [
            "empty\n",
            "10 -->20 -->30 -->"
          ],
          "name": "stdout"
        },
        {
          "output_type": "execute_result",
          "data": {
            "text/plain": [
              "<bound method DLL.display of <__main__.DLL object at 0x7f642197d810>>"
            ]
          },
          "metadata": {
            "tags": []
          },
          "execution_count": 2
        }
      ]
    },
    {
      "cell_type": "markdown",
      "metadata": {
        "id": "SpJSoJIFDQKb"
      },
      "source": [
        "INSERTION AND DELETION OPERATIONS ON DOUBLED LINKED LIST"
      ]
    },
    {
      "cell_type": "code",
      "metadata": {
        "id": "h8DgqKp7mz58",
        "colab": {
          "base_uri": "https://localhost:8080/"
        },
        "outputId": "02c2aee3-3491-42a4-91ae-e2e3d4425658"
      },
      "source": [
        "class Node:\n",
        "  def __init__(self,data):\n",
        "    self.data=data\n",
        "    self.head=None\n",
        "    self.next=None\n",
        "class DLL:\n",
        "  def  display(self):\n",
        "    if self.head is None:\n",
        "      print(\"Empty list\")\n",
        "    else:\n",
        "      temp=self.head\n",
        "      while temp:\n",
        "        print(temp.data,\"-->\",end=\" \")\n",
        "        temp=temp.next\n",
        "  def insert_At_Beg(self,data):\n",
        "    n=Node(5)\n",
        "    temp=self.head\n",
        "    temp.prev=n\n",
        "    n.next=temp\n",
        "    self.head=n\n",
        "  def insert_At_last(self,data):\n",
        "    n=Node(78)\n",
        "    temp=self.head\n",
        "    while temp.next is not None:\n",
        "      temp=temp.next\n",
        "    temp.next=n\n",
        "    n.prev=temp\n",
        "  def insert_At_pos(self,pos):\n",
        "    n=Node(31)\n",
        "    temp=self.head\n",
        "    for i in range(1,pos-1):\n",
        "      temp=temp.next\n",
        "    n.prev=temp\n",
        "    n.next=temp.next\n",
        "    temp.next.prev=n\n",
        "    temp.next=n\n",
        "  def del_At_begg(self):\n",
        "    temp=self.head\n",
        "    self.head=temp.next\n",
        "    temp.next=None\n",
        "    self.head.prev=None\n",
        "  def del_At_last(self):\n",
        "    temp=self.head.next\n",
        "    before=self.head\n",
        "    while temp.next is not None:\n",
        "      temp=temp.next\n",
        "      before=before.next\n",
        "    before.next=None\n",
        "    temp.prev=None\n",
        "  def del_At_pos(self,pos):\n",
        "    temp=self.head.next\n",
        "    before=self.head\n",
        "    for i in range(1,pos-1):\n",
        "      temp=temp.next\n",
        "      before=before.next\n",
        "    before.next=temp.next\n",
        "    temp.next.prev=before\n",
        "    temp.prev=None\n",
        "    temp.next=None\n",
        "\n",
        "l=DLL()\n",
        "n1=Node(19)\n",
        "l.head=n1\n",
        "n2=Node(67)\n",
        "n1.next=n2\n",
        "n2.prev=n1\n",
        "n3=Node(30)\n",
        "n2.next=n3\n",
        "n3.prev=n2\n",
        "l.insert_At_pos(2)\n",
        "l.insert_At_pos(3)\n",
        "l.del_At_begg()\n",
        "l.del_At_pos(2)\n",
        "l.display()"
      ],
      "execution_count": 27,
      "outputs": [
        {
          "output_type": "stream",
          "text": [
            "31 --> 67 --> 30 --> "
          ],
          "name": "stdout"
        }
      ]
    },
    {
      "cell_type": "code",
      "metadata": {
        "id": "TnZD2OebHh4j"
      },
      "source": [
        ""
      ],
      "execution_count": null,
      "outputs": []
    }
  ]
}