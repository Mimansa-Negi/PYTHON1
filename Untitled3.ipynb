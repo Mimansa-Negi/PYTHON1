{
  "nbformat": 4,
  "nbformat_minor": 0,
  "metadata": {
    "colab": {
      "name": "Untitled3.ipynb",
      "provenance": [],
      "authorship_tag": "ABX9TyOoI492ja7/ueSZAi2KEd6O",
      "include_colab_link": true
    },
    "kernelspec": {
      "display_name": "Python 3",
      "name": "python3"
    },
    "language_info": {
      "name": "python"
    }
  },
  "cells": [
    {
      "cell_type": "markdown",
      "metadata": {
        "id": "view-in-github",
        "colab_type": "text"
      },
      "source": [
        "<a href=\"https://colab.research.google.com/github/Mimansa-Negi/PYTHON1/blob/main/Untitled3.ipynb\" target=\"_parent\"><img src=\"https://colab.research.google.com/assets/colab-badge.svg\" alt=\"Open In Colab\"/></a>"
      ]
    },
    {
      "cell_type": "markdown",
      "metadata": {
        "id": "7PCwkQTsSkq-"
      },
      "source": [
        "sum of reverse is palindrome or not:\n"
      ]
    },
    {
      "cell_type": "code",
      "metadata": {
        "colab": {
          "base_uri": "https://localhost:8080/"
        },
        "id": "OR-CBPUbPdyM",
        "outputId": "1892ddf6-56d9-40d6-acd9-f99f05b1cc4a"
      },
      "source": [
        "def palin(l):\n",
        "  check=int(l)+int(l[::-1])\n",
        "  check=str(check)\n",
        "  if(check==check[::-1]):\n",
        "    return check\n",
        "  else:\n",
        "    return pali(check)\n",
        "l=input()\n",
        "print(palin(l))\n"
      ],
      "execution_count": null,
      "outputs": [
        {
          "output_type": "stream",
          "text": [
            "456\n",
            "1221\n"
          ],
          "name": "stdout"
        }
      ]
    },
    {
      "cell_type": "markdown",
      "metadata": {
        "id": "IlebKx7kTvWD"
      },
      "source": [
        "APPENDING NUMBERS FROM A GIVEN STRING"
      ]
    },
    {
      "cell_type": "code",
      "metadata": {
        "colab": {
          "base_uri": "https://localhost:8080/"
        },
        "id": "D0QfGQ58UHgz",
        "outputId": "efab26e7-a36d-49a8-d66d-fc42db26b4e2"
      },
      "source": [
        "my_input=input()\n",
        "even,odd=[],[]\n",
        "sp_ch=0\n",
        "for a in my_input:\n",
        "  if not(a.isalnum()):\n",
        "    sp_ch+=1\n",
        "  if a.isdigit():\n",
        "    if int(a)%2==0:\n",
        "      even.append(a)\n",
        "    else:\n",
        "      odd.append(a)\n",
        "if sp_ch%2!=0:\n",
        "  odd,even=even,odd\n",
        "for b in range(max(len(even),len(odd))):\n",
        "  if b<len(even):\n",
        "    print(even[b],end=\"\")\n",
        "  if b<len(odd):\n",
        "    print(odd[b],end=\"\")\n"
      ],
      "execution_count": null,
      "outputs": [
        {
          "output_type": "stream",
          "text": [
            "a5c67r21i@p#8t\n",
            "652781"
          ],
          "name": "stdout"
        }
      ]
    },
    {
      "cell_type": "markdown",
      "metadata": {
        "id": "AeKvPuYKZiBc"
      },
      "source": [
        ""
      ]
    },
    {
      "cell_type": "code",
      "metadata": {
        "colab": {
          "base_uri": "https://localhost:8080/"
        },
        "id": "KbgA-gkUVnd_",
        "outputId": "190d33a8-6a7f-446a-fdbf-170e2a6325a5"
      },
      "source": [
        "my_input=input()\n",
        "even,odd=[],[]\n",
        "sp_ch=0\n",
        "for a in my_input:\n",
        "  if not(a.isalnum()):\n",
        "    sp_ch+=1\n",
        "  if a.isdigit():\n",
        "    if int(a)%2==0:\n",
        "      even.append(a)\n",
        "    else:\n",
        "      odd.append(a)\n",
        "if sp_ch%2!=0:\n",
        "  even,odd=odd,even\n",
        "for b in range(max(len(even),len(odd))):\n",
        "  if b<len(even):\n",
        "    print(even[b],end=\"\")\n",
        "  if b<len(odd):\n",
        "    print(odd[b],end=\"\")\n",
        "\n"
      ],
      "execution_count": null,
      "outputs": [
        {
          "output_type": "stream",
          "text": [
            "jkbcwdjj453@#\n",
            "453"
          ],
          "name": "stdout"
        }
      ]
    },
    {
      "cell_type": "markdown",
      "metadata": {
        "id": "T5_S3PtNlbc1"
      },
      "source": [
        "OTP GENERATOR"
      ]
    },
    {
      "cell_type": "code",
      "metadata": {
        "colab": {
          "base_uri": "https://localhost:8080/"
        },
        "id": "QUDbkRYfljFz",
        "outputId": "6801982b-4a20-4061-a0f8-65deb7215f61"
      },
      "source": [
        "input_num=input()\n",
        "length_num=len(input_num)\n",
        "result=\"\"\n",
        "for a in range(1,length_num,2):\n",
        "  result+=str(int(input_num[a])**2)\n",
        "print(result[0:4])"
      ],
      "execution_count": null,
      "outputs": [
        {
          "output_type": "stream",
          "text": [
            "5624381275\n",
            "3616\n"
          ],
          "name": "stdout"
        }
      ]
    },
    {
      "cell_type": "markdown",
      "metadata": {
        "id": "ik1MvnFTrWK8"
      },
      "source": [
        "PROGRAM TO REVERSE A STRING AFTER REMOVING DUPLICATES"
      ]
    },
    {
      "cell_type": "code",
      "metadata": {
        "colab": {
          "base_uri": "https://localhost:8080/"
        },
        "id": "J1SusvZkoPGz",
        "outputId": "609740a4-4fd5-4463-f02c-560dd7221a3f"
      },
      "source": [
        "string=input()\n",
        "d=list(dict.fromkeys(string))\n",
        "d.reverse()\n",
        "print(\"\".join(d))"
      ],
      "execution_count": null,
      "outputs": [
        {
          "output_type": "stream",
          "text": [
            "mimansa\n",
            "snaim\n"
          ],
          "name": "stdout"
        }
      ]
    },
    {
      "cell_type": "markdown",
      "metadata": {
        "id": "JaqtJUkwzQXj"
      },
      "source": [
        "REVERSE A GIVEN STRING AND FIND THE SQUARE OF EVEN INDEXES"
      ]
    },
    {
      "cell_type": "code",
      "metadata": {
        "colab": {
          "base_uri": "https://localhost:8080/"
        },
        "id": "HHCUp23hruGi",
        "outputId": "ba6e2b63-fdaf-4caa-f9b9-b7848323b939"
      },
      "source": [
        "a=int(input())\n",
        "rev=0\n",
        "while(a>0):\n",
        "  rem=a%10\n",
        "  rev=rev*10+rem\n",
        "  a=a//10\n",
        "print(rev)\n",
        "l1=str(rev)\n",
        "l=len(l1)\n",
        "for i in range(1,l,2):\n",
        "  print(int(l1[i])**2,end=\"\")"
      ],
      "execution_count": null,
      "outputs": [
        {
          "output_type": "stream",
          "text": [
            "987654321\n",
            "123456789\n",
            "4163664"
          ],
          "name": "stdout"
        }
      ]
    },
    {
      "cell_type": "markdown",
      "metadata": {
        "id": "IYRpRpa7zcRV"
      },
      "source": [
        "ADD THE SUM OF DIGITS FROM INDEX 4 TO 8\n"
      ]
    },
    {
      "cell_type": "code",
      "metadata": {
        "colab": {
          "base_uri": "https://localhost:8080/"
        },
        "id": "iD1q62mjxSkE",
        "outputId": "722b8fa9-65e3-4021-db1c-391eb59ddc4d"
      },
      "source": [
        "s=input().split(\",\")\n",
        "num1=0\n",
        "num2=\"\"\n",
        "i4=s.index('4')\n",
        "i7=s.index('7')\n",
        "length=len(s)\n",
        "for i in range(0,length):\n",
        "  if(i<i4 or i<i7+1):\n",
        "    num1+=int(s[i])\n",
        "  \n",
        "for i in range(i4,i7+1):\n",
        "  num2+=s[i]\n",
        "\n",
        "print(num1+int(num2))\n",
        "\n",
        "\n"
      ],
      "execution_count": 31,
      "outputs": [
        {
          "output_type": "stream",
          "text": [
            "21,23,4,56,78,90,7,88,909\n",
            "45679186\n"
          ],
          "name": "stdout"
        }
      ]
    },
    {
      "cell_type": "code",
      "metadata": {
        "id": "bCm-rKPp03fp",
        "colab": {
          "base_uri": "https://localhost:8080/"
        },
        "outputId": "19bf8963-44b2-44f3-bd68-69e666750399"
      },
      "source": [
        "n=input().split(\",\")\n",
        "n_2=n.index('2')\n",
        "n_5=n.index('5')\n",
        "length=len(n)\n",
        "num=\"\"\n",
        "num1=0\n",
        "for i in range(0,length):\n",
        "  if(i<n_2 or i>n_5+1):\n",
        "    num1+=int(n[i])\n",
        "for i in range(n_2,n_5+1):\n",
        "    num+=n[i]\n",
        "print(num1+int(num))"
      ],
      "execution_count": 34,
      "outputs": [
        {
          "output_type": "stream",
          "text": [
            "1,2,33,44,5,67,88\n",
            "233534\n"
          ],
          "name": "stdout"
        }
      ]
    },
    {
      "cell_type": "code",
      "metadata": {
        "id": "35KeYL9TKJU6"
      },
      "source": [
        ""
      ],
      "execution_count": null,
      "outputs": []
    }
  ]
}