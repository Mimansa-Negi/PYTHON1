{
  "nbformat": 4,
  "nbformat_minor": 0,
  "metadata": {
    "colab": {
      "name": "Untitled0.ipynb",
      "provenance": [],
      "collapsed_sections": [],
      "authorship_tag": "ABX9TyMd/R3VOduztom4dT+b8mr2",
      "include_colab_link": true
    },
    "kernelspec": {
      "name": "python3",
      "display_name": "Python 3"
    },
    "language_info": {
      "name": "python"
    }
  },
  "cells": [
    {
      "cell_type": "markdown",
      "metadata": {
        "id": "view-in-github",
        "colab_type": "text"
      },
      "source": [
        "<a href=\"https://colab.research.google.com/github/Mimansa-Negi/PYTHON1/blob/main/Untitled0.ipynb\" target=\"_parent\"><img src=\"https://colab.research.google.com/assets/colab-badge.svg\" alt=\"Open In Colab\"/></a>"
      ]
    },
    {
      "cell_type": "markdown",
      "metadata": {
        "id": "H42Fg1Bcyz-d"
      },
      "source": [
        "Pattern 1"
      ]
    },
    {
      "cell_type": "code",
      "metadata": {
        "colab": {
          "base_uri": "https://localhost:8080/"
        },
        "id": "oICriZRhy9vz",
        "outputId": "7426eaa3-1a77-4de3-ddd5-16d026c15368"
      },
      "source": [
        "for x in range(1,6):\n",
        "  for y in range(1,6):\n",
        "    print(\"*\",end=\"\")\n",
        "  print()"
      ],
      "execution_count": null,
      "outputs": [
        {
          "output_type": "stream",
          "text": [
            "*****\n",
            "*****\n",
            "*****\n",
            "*****\n",
            "*****\n"
          ],
          "name": "stdout"
        }
      ]
    },
    {
      "cell_type": "markdown",
      "metadata": {
        "id": "Kd7B2tUtzfKv"
      },
      "source": [
        ""
      ]
    },
    {
      "cell_type": "markdown",
      "metadata": {
        "id": "Lwk_ciJyzhye"
      },
      "source": [
        "pattern 2\n"
      ]
    },
    {
      "cell_type": "code",
      "metadata": {
        "colab": {
          "base_uri": "https://localhost:8080/"
        },
        "id": "327yBx1FzcX8",
        "outputId": "5a0cf9c7-4841-49b4-fa96-587afcc8e396"
      },
      "source": [
        "for x in range(1,6):\n",
        "  for y in range(1,6):\n",
        "    print(x,end=\"\")\n",
        "  print()"
      ],
      "execution_count": null,
      "outputs": [
        {
          "output_type": "stream",
          "text": [
            "11111\n",
            "22222\n",
            "33333\n",
            "44444\n",
            "55555\n"
          ],
          "name": "stdout"
        }
      ]
    },
    {
      "cell_type": "markdown",
      "metadata": {
        "id": "mvNGMxMs2yp_"
      },
      "source": [
        "pattern 3"
      ]
    },
    {
      "cell_type": "code",
      "metadata": {
        "colab": {
          "base_uri": "https://localhost:8080/"
        },
        "id": "vom90TVFz74O",
        "outputId": "c9ae4a3f-a89d-4a16-84fe-50aedacc9c7b"
      },
      "source": [
        "for x in range(1,6):\n",
        "  for y in range(1,6):\n",
        "    print(y,end=\"\")\n",
        "  print()"
      ],
      "execution_count": null,
      "outputs": [
        {
          "output_type": "stream",
          "text": [
            "12345\n",
            "12345\n",
            "12345\n",
            "12345\n",
            "12345\n"
          ],
          "name": "stdout"
        }
      ]
    },
    {
      "cell_type": "markdown",
      "metadata": {
        "id": "cFmFvZax22tR"
      },
      "source": [
        "pattern 4"
      ]
    },
    {
      "cell_type": "code",
      "metadata": {
        "colab": {
          "base_uri": "https://localhost:8080/"
        },
        "id": "CfLI4OGN0ILt",
        "outputId": "5309b5ba-4f2b-472e-b986-6eecfdb0db8d"
      },
      "source": [
        "for x in range(5,0,-1):\n",
        "  for y in range(5,0,-1):\n",
        "   print(x,end=\"\")\n",
        "  print()"
      ],
      "execution_count": null,
      "outputs": [
        {
          "output_type": "stream",
          "text": [
            "55555\n",
            "44444\n",
            "33333\n",
            "22222\n",
            "11111\n"
          ],
          "name": "stdout"
        }
      ]
    },
    {
      "cell_type": "markdown",
      "metadata": {
        "id": "dAmlki3g25_M"
      },
      "source": [
        "pattern 5\n"
      ]
    },
    {
      "cell_type": "code",
      "metadata": {
        "colab": {
          "base_uri": "https://localhost:8080/"
        },
        "id": "Cs2GL-5m27zm",
        "outputId": "408ca530-9ce5-403c-e3f7-9141da1e8897"
      },
      "source": [
        "for x in range(5,0,-1):\n",
        "  for y in range(5,0,-1):\n",
        "    print(y,end=\"\")\n",
        "  print()"
      ],
      "execution_count": null,
      "outputs": [
        {
          "output_type": "stream",
          "text": [
            "54321\n",
            "54321\n",
            "54321\n",
            "54321\n",
            "54321\n"
          ],
          "name": "stdout"
        }
      ]
    },
    {
      "cell_type": "markdown",
      "metadata": {
        "id": "SKLRbvzp3YcH"
      },
      "source": [
        "pattern 6\n"
      ]
    },
    {
      "cell_type": "code",
      "metadata": {
        "colab": {
          "base_uri": "https://localhost:8080/"
        },
        "id": "cwZuZ_0A3QOZ",
        "outputId": "49bf3bb4-4423-45b8-f8ff-f6bf02238bba"
      },
      "source": [
        "n=5\n",
        "k=1\n",
        "for x in range(1,n+1):\n",
        "  for y in range(1,n+1):\n",
        "    print(\"{:2d}\".format(k),end=\"\")\n",
        "    k=k+1\n",
        "  print()"
      ],
      "execution_count": null,
      "outputs": [
        {
          "output_type": "stream",
          "text": [
            " 1 2 3 4 5\n",
            " 6 7 8 910\n",
            "1112131415\n",
            "1617181920\n",
            "2122232425\n"
          ],
          "name": "stdout"
        }
      ]
    },
    {
      "cell_type": "code",
      "metadata": {
        "id": "pKRMSoLj3-Au"
      },
      "source": [
        ""
      ],
      "execution_count": null,
      "outputs": []
    },
    {
      "cell_type": "markdown",
      "metadata": {
        "id": "OuIcvMTe3__p"
      },
      "source": [
        "pattern 7"
      ]
    },
    {
      "cell_type": "code",
      "metadata": {
        "colab": {
          "base_uri": "https://localhost:8080/"
        },
        "id": "vJyrF_lL4CVf",
        "outputId": "f34241f4-f316-41ca-b2ee-4d342a9eb4d6"
      },
      "source": [
        "n=5\n",
        "k=1\n",
        "for x in range(1,n+1):\n",
        "  for y in range(1,n+1):\n",
        "    print(\"{:2d}\".format(k),end=\"\")\n",
        "    k=k+2\n",
        "  print()"
      ],
      "execution_count": null,
      "outputs": [
        {
          "output_type": "stream",
          "text": [
            " 1 3 5 7 9\n",
            "1113151719\n",
            "2123252729\n",
            "3133353739\n",
            "4143454749\n"
          ],
          "name": "stdout"
        }
      ]
    },
    {
      "cell_type": "markdown",
      "metadata": {
        "id": "fI9DCpxx4sS8"
      },
      "source": [
        "pattern 8"
      ]
    },
    {
      "cell_type": "code",
      "metadata": {
        "colab": {
          "base_uri": "https://localhost:8080/"
        },
        "id": "JnPcqUFI4ut-",
        "outputId": "cd7946b8-7b8a-4a90-fda6-82b6775c2fde"
      },
      "source": [
        "n=5\n",
        "k=2\n",
        "for x in range(1,n+1):\n",
        "  for y in range(1,n+1):\n",
        "    print(\"{:2d}\".format(k),end=\"\")\n",
        "    k=k+2\n",
        "  print()"
      ],
      "execution_count": null,
      "outputs": [
        {
          "output_type": "stream",
          "text": [
            " 2 4 6 810\n",
            "1214161820\n",
            "2224262830\n",
            "3234363840\n",
            "4244464850\n"
          ],
          "name": "stdout"
        }
      ]
    },
    {
      "cell_type": "markdown",
      "metadata": {
        "id": "lF7G2YmD46RC"
      },
      "source": [
        "pattern 9"
      ]
    },
    {
      "cell_type": "code",
      "metadata": {
        "colab": {
          "base_uri": "https://localhost:8080/"
        },
        "id": "KX_P1ptv42hO",
        "outputId": "62868c54-4776-4268-df2d-52a3c9ea595d"
      },
      "source": [
        "for x in range(1,6):\n",
        "  for y in range(1,6):\n",
        "    print(\"{}\".format(x*y),end=\"\")\n",
        "  print()"
      ],
      "execution_count": null,
      "outputs": [
        {
          "output_type": "stream",
          "text": [
            "12345\n",
            "246810\n",
            "3691215\n",
            "48121620\n",
            "510152025\n"
          ],
          "name": "stdout"
        }
      ]
    },
    {
      "cell_type": "code",
      "metadata": {
        "id": "Tz9bGzYN5b4M"
      },
      "source": [
        ""
      ],
      "execution_count": null,
      "outputs": []
    },
    {
      "cell_type": "markdown",
      "metadata": {
        "id": "rb-KKMF06VLz"
      },
      "source": [
        "pattern 10"
      ]
    },
    {
      "cell_type": "code",
      "metadata": {
        "colab": {
          "base_uri": "https://localhost:8080/"
        },
        "id": "VoR-6YQL6XRo",
        "outputId": "1ffbcdbf-172c-4314-d69b-5750ffeaf8c7"
      },
      "source": [
        "for x in range(1,6):\n",
        "  for y in range(1,4):\n",
        "    print(\"{}{}\".format(y,x),end=\"\")\n",
        "  print()"
      ],
      "execution_count": null,
      "outputs": [
        {
          "output_type": "stream",
          "text": [
            "112131\n",
            "122232\n",
            "132333\n",
            "142434\n",
            "152535\n"
          ],
          "name": "stdout"
        }
      ]
    },
    {
      "cell_type": "markdown",
      "metadata": {
        "id": "pW1QVbti7Kun"
      },
      "source": [
        "pattern 11"
      ]
    },
    {
      "cell_type": "code",
      "metadata": {
        "colab": {
          "base_uri": "https://localhost:8080/"
        },
        "id": "W6PTaDVE64ZQ",
        "outputId": "6d896d57-79a5-44a1-e3fa-b9f1006b6234"
      },
      "source": [
        "for x in range(1,6):\n",
        "  for y in range(1,4):\n",
        "    print(\"{}{}\".format(x,y),end=\"\")\n",
        "  print()"
      ],
      "execution_count": null,
      "outputs": [
        {
          "output_type": "stream",
          "text": [
            "111213\n",
            "212223\n",
            "313233\n",
            "414243\n",
            "515253\n"
          ],
          "name": "stdout"
        }
      ]
    },
    {
      "cell_type": "markdown",
      "metadata": {
        "id": "hkCqwmoo7eIM"
      },
      "source": [
        "pattern 12"
      ]
    },
    {
      "cell_type": "code",
      "metadata": {
        "colab": {
          "base_uri": "https://localhost:8080/"
        },
        "id": "MK3rXLRU7Z4r",
        "outputId": "29cbc72c-f9a9-46ce-9de7-92bcfcd181f7"
      },
      "source": [
        "n=5\n",
        "for x in range(1,n+1):\n",
        "  p=x\n",
        "  for y in range(1,n+1):\n",
        "    print(\"{:2d}\".format(p),end=\" \")\n",
        "    p+=n\n",
        "  print()\n"
      ],
      "execution_count": null,
      "outputs": [
        {
          "output_type": "stream",
          "text": [
            " 1  6 11 16 21 \n",
            " 2  7 12 17 22 \n",
            " 3  8 13 18 23 \n",
            " 4  9 14 19 24 \n",
            " 5 10 15 20 25 \n"
          ],
          "name": "stdout"
        }
      ]
    },
    {
      "cell_type": "markdown",
      "metadata": {
        "id": "Qf7_2zPs8bMG"
      },
      "source": [
        "pattern 13"
      ]
    },
    {
      "cell_type": "code",
      "metadata": {
        "colab": {
          "base_uri": "https://localhost:8080/"
        },
        "id": "0ErthrYf8M69",
        "outputId": "0d523178-13e9-43d3-dec5-9f0128f0e95b"
      },
      "source": [
        "n=5\n",
        "for x in range(1,n+1):\n",
        "  p1=x\n",
        "  p2=n-x+1\n",
        "  for y in range(1,n+1):\n",
        "    if(y%2==1):\n",
        "      print(\"{:2d}\".format(p1),end=\" \")\n",
        "    else:\n",
        "      print(\"{:2d}\".format(p2),end=\" \")\n",
        "    p1=p1+n\n",
        "    p2=p2+n\n",
        "  print()\n"
      ],
      "execution_count": null,
      "outputs": [
        {
          "output_type": "stream",
          "text": [
            " 1 10 11 20 21 \n",
            " 2  9 12 19 22 \n",
            " 3  8 13 18 23 \n",
            " 4  7 14 17 24 \n",
            " 5  6 15 16 25 \n"
          ],
          "name": "stdout"
        }
      ]
    },
    {
      "cell_type": "markdown",
      "metadata": {
        "id": "xx_NZR1E9px_"
      },
      "source": [
        "pattern 14"
      ]
    },
    {
      "cell_type": "code",
      "metadata": {
        "colab": {
          "base_uri": "https://localhost:8080/"
        },
        "id": "EbUnP1oM9P_N",
        "outputId": "95361bb4-5443-4fd0-a798-8ab7f412593f"
      },
      "source": [
        "n=5\n",
        "for x in range(1,n+1):\n",
        "  p=n-x+1\n",
        "  for y in range(1,n+1):\n",
        "    print(\"{:2d}\".format(p),end=\" \")\n",
        "    p=p+n\n",
        "  print()"
      ],
      "execution_count": null,
      "outputs": [
        {
          "output_type": "stream",
          "text": [
            " 5 10 15 20 25 \n",
            " 4  9 14 19 24 \n",
            " 3  8 13 18 23 \n",
            " 2  7 12 17 22 \n",
            " 1  6 11 16 21 \n"
          ],
          "name": "stdout"
        }
      ]
    },
    {
      "cell_type": "markdown",
      "metadata": {
        "id": "sQ7X7GP6-WAo"
      },
      "source": [
        ""
      ]
    },
    {
      "cell_type": "markdown",
      "metadata": {
        "id": "R-cGJcOA-WWx"
      },
      "source": [
        "pattern 15"
      ]
    },
    {
      "cell_type": "code",
      "metadata": {
        "colab": {
          "base_uri": "https://localhost:8080/"
        },
        "id": "7eR2JcNX-Ppd",
        "outputId": "1938927d-366d-49e2-d9ea-8f2f673bac8b"
      },
      "source": [
        "n=5\n",
        "for x in range(1,n+1):\n",
        "  p1=x\n",
        "  p2=n-x+1\n",
        "  for y in range(1,n+1):\n",
        "    if(y%2==0):\n",
        "     print(\"{:2d}\".format(p1),end=\" \")\n",
        "    else:\n",
        "     print(\"{:2d}\".format(p2),end=\" \")\n",
        "    p1=p1+n\n",
        "    p2=p2+n\n",
        "  print()"
      ],
      "execution_count": null,
      "outputs": [
        {
          "output_type": "stream",
          "text": [
            " 5  6 15 16 25 \n",
            " 4  7 14 17 24 \n",
            " 3  8 13 18 23 \n",
            " 2  9 12 19 22 \n",
            " 1 10 11 20 21 \n"
          ],
          "name": "stdout"
        }
      ]
    },
    {
      "cell_type": "markdown",
      "metadata": {
        "id": "pDJ2H5tpYjCL"
      },
      "source": [
        "pattern 16\n"
      ]
    },
    {
      "cell_type": "code",
      "metadata": {
        "id": "3QjEkQA9_JBm",
        "colab": {
          "base_uri": "https://localhost:8080/"
        },
        "outputId": "a63b6554-4a54-43ba-d943-69b9db9f3dfd"
      },
      "source": [
        "n=5\n",
        "for x in range(1,n+1):\n",
        "  for y in range(1,n+1):\n",
        "    print(str(x+y-1)+\" \",end=\"\")\n",
        "  print()"
      ],
      "execution_count": 2,
      "outputs": [
        {
          "output_type": "stream",
          "text": [
            "1 2 3 4 5 \n",
            "2 3 4 5 6 \n",
            "3 4 5 6 7 \n",
            "4 5 6 7 8 \n",
            "5 6 7 8 9 \n"
          ],
          "name": "stdout"
        }
      ]
    },
    {
      "cell_type": "markdown",
      "metadata": {
        "id": "NMh4g079ZLyk"
      },
      "source": [
        "pattern 17"
      ]
    },
    {
      "cell_type": "code",
      "metadata": {
        "colab": {
          "base_uri": "https://localhost:8080/"
        },
        "id": "6BWSl2c8ZF9s",
        "outputId": "def2a9ec-9a62-4273-c1c8-2ea19aff48f9"
      },
      "source": [
        "n=5\n",
        "for x in range(1,n+1):\n",
        "  for y in range(1,n+1):\n",
        "    print(\"{:2d}\".format((2*(x+y))-3),end=\"\")\n",
        "  print()"
      ],
      "execution_count": 6,
      "outputs": [
        {
          "output_type": "stream",
          "text": [
            " 1 3 5 7 9\n",
            " 3 5 7 911\n",
            " 5 7 91113\n",
            " 7 9111315\n",
            " 911131517\n"
          ],
          "name": "stdout"
        }
      ]
    },
    {
      "cell_type": "markdown",
      "metadata": {
        "id": "BbegMzKZaxNE"
      },
      "source": [
        "pattern 18"
      ]
    },
    {
      "cell_type": "code",
      "metadata": {
        "colab": {
          "base_uri": "https://localhost:8080/"
        },
        "id": "1j1MfBnYaXZP",
        "outputId": "953382d9-e35b-4dc5-c0f7-0b79f60019a2"
      },
      "source": [
        "for x in range(1,6):\n",
        "  for y in range(1,6):\n",
        "    print(str((x+y)%2),end=\"\")\n",
        "  print()"
      ],
      "execution_count": 9,
      "outputs": [
        {
          "output_type": "stream",
          "text": [
            "01010\n",
            "10101\n",
            "01010\n",
            "10101\n",
            "01010\n"
          ],
          "name": "stdout"
        }
      ]
    },
    {
      "cell_type": "markdown",
      "metadata": {
        "id": "gz8MyaJQbktR"
      },
      "source": [
        "pattern 19"
      ]
    },
    {
      "cell_type": "code",
      "metadata": {
        "colab": {
          "base_uri": "https://localhost:8080/"
        },
        "id": "OhtLtl1rbLDM",
        "outputId": "bcab70c8-f39e-4058-c347-38df48df571b"
      },
      "source": [
        "for x in range(1,6):\n",
        "  for y in range(0,5):\n",
        "    print(str((x+y)%2),end=\"\")\n",
        "  print()"
      ],
      "execution_count": 11,
      "outputs": [
        {
          "output_type": "stream",
          "text": [
            "10101\n",
            "01010\n",
            "10101\n",
            "01010\n",
            "10101\n"
          ],
          "name": "stdout"
        }
      ]
    },
    {
      "cell_type": "markdown",
      "metadata": {
        "id": "FSeTV6labv0R"
      },
      "source": [
        "pattern 20"
      ]
    },
    {
      "cell_type": "code",
      "metadata": {
        "colab": {
          "base_uri": "https://localhost:8080/"
        },
        "id": "x71JSc-nboI9",
        "outputId": "300977c1-cb0d-4279-b725-98e4472f3693"
      },
      "source": [
        "for x in range(1,6):\n",
        "  for y in range(1,6):\n",
        "    print(str((x*y)%2),end=\"\")\n",
        "  print()"
      ],
      "execution_count": 12,
      "outputs": [
        {
          "output_type": "stream",
          "text": [
            "10101\n",
            "00000\n",
            "10101\n",
            "00000\n",
            "10101\n"
          ],
          "name": "stdout"
        }
      ]
    },
    {
      "cell_type": "markdown",
      "metadata": {
        "id": "kRoN9zwXcPCo"
      },
      "source": [
        "pattern 21"
      ]
    },
    {
      "cell_type": "code",
      "metadata": {
        "colab": {
          "base_uri": "https://localhost:8080/"
        },
        "id": "atiuIxpMcMrU",
        "outputId": "f1889fcf-ef11-42ea-a53e-9a160c6b4acd"
      },
      "source": [
        "for x in range(1,6):\n",
        "  for y in range(0,6):\n",
        "    print(str((x*y)%2),end=\"\")\n",
        "  print()"
      ],
      "execution_count": 14,
      "outputs": [
        {
          "output_type": "stream",
          "text": [
            "010101\n",
            "000000\n",
            "010101\n",
            "000000\n",
            "010101\n"
          ],
          "name": "stdout"
        }
      ]
    },
    {
      "cell_type": "markdown",
      "metadata": {
        "id": "Zsx1ftIScvzB"
      },
      "source": [
        "pattern 22\n"
      ]
    },
    {
      "cell_type": "code",
      "metadata": {
        "colab": {
          "base_uri": "https://localhost:8080/"
        },
        "id": "_NQRC6TScmzl",
        "outputId": "bbe2d566-3227-4bc2-b1e6-45da34e36341"
      },
      "source": [
        "for x in range(0,5):\n",
        "  for y  in range(1,6):\n",
        "    print(str(x%2),end=\"\")\n",
        "  print()\n"
      ],
      "execution_count": 15,
      "outputs": [
        {
          "output_type": "stream",
          "text": [
            "00000\n",
            "11111\n",
            "00000\n",
            "11111\n",
            "00000\n"
          ],
          "name": "stdout"
        }
      ]
    },
    {
      "cell_type": "markdown",
      "metadata": {
        "id": "JBLHQPGEdLDK"
      },
      "source": [
        "pattern 23"
      ]
    },
    {
      "cell_type": "code",
      "metadata": {
        "colab": {
          "base_uri": "https://localhost:8080/"
        },
        "id": "KfTxYi1CdJCb",
        "outputId": "ade15409-3162-4dc3-c0e0-48e656d4d514"
      },
      "source": [
        "for x in range(1,n):\n",
        "  for y in range(0,5):\n",
        "    print(str(x%2),end=\"\")\n",
        "  print()"
      ],
      "execution_count": 17,
      "outputs": [
        {
          "output_type": "stream",
          "text": [
            "11111\n",
            "00000\n",
            "11111\n",
            "00000\n"
          ],
          "name": "stdout"
        }
      ]
    },
    {
      "cell_type": "markdown",
      "metadata": {
        "id": "qSK9k4wldmhJ"
      },
      "source": [
        "pattern 24"
      ]
    },
    {
      "cell_type": "code",
      "metadata": {
        "colab": {
          "base_uri": "https://localhost:8080/"
        },
        "id": "IbO7L8SLddY5",
        "outputId": "23ce6501-950e-405b-87c6-d74f95134d71"
      },
      "source": [
        "for x in range(1,6):\n",
        "  for y in range(0,6):\n",
        "    print(str(y%2),end=\"\")\n",
        "  print()"
      ],
      "execution_count": 21,
      "outputs": [
        {
          "output_type": "stream",
          "text": [
            "010101\n",
            "010101\n",
            "010101\n",
            "010101\n",
            "010101\n"
          ],
          "name": "stdout"
        }
      ]
    },
    {
      "cell_type": "markdown",
      "metadata": {
        "id": "uvFkIan5egzm"
      },
      "source": [
        "pattern 25"
      ]
    },
    {
      "cell_type": "code",
      "metadata": {
        "colab": {
          "base_uri": "https://localhost:8080/"
        },
        "id": "RgakcBJXeB3J",
        "outputId": "61e1e43d-ddbe-4c3f-b83c-eb9d1d166053"
      },
      "source": [
        "for x in range(1,6):\n",
        "  for y in range(1,6):\n",
        "    print(str(y%2),end=\"\")\n",
        "  print()"
      ],
      "execution_count": 23,
      "outputs": [
        {
          "output_type": "stream",
          "text": [
            "10101\n",
            "10101\n",
            "10101\n",
            "10101\n",
            "10101\n"
          ],
          "name": "stdout"
        }
      ]
    },
    {
      "cell_type": "markdown",
      "metadata": {
        "id": "WMUT5ySheuN0"
      },
      "source": [
        "pattern 26"
      ]
    },
    {
      "cell_type": "code",
      "metadata": {
        "colab": {
          "base_uri": "https://localhost:8080/"
        },
        "id": "0MnHway5ekcW",
        "outputId": "c7d01691-e8e0-4a77-d4d1-3db1487ca6a4"
      },
      "source": [
        "for x in range(65,70):\n",
        "  for y in range(65,70):\n",
        "    print(chr(x),end=\"\")\n",
        "  print()"
      ],
      "execution_count": 25,
      "outputs": [
        {
          "output_type": "stream",
          "text": [
            "AAAAA\n",
            "BBBBB\n",
            "CCCCC\n",
            "DDDDD\n",
            "EEEEE\n"
          ],
          "name": "stdout"
        }
      ]
    },
    {
      "cell_type": "markdown",
      "metadata": {
        "id": "vuP_JYB6fIlb"
      },
      "source": [
        "pattrern 27"
      ]
    },
    {
      "cell_type": "code",
      "metadata": {
        "colab": {
          "base_uri": "https://localhost:8080/"
        },
        "id": "ksQ4cWJ6e95L",
        "outputId": "0582973e-ff8d-4dd5-8764-35cc6aaf144d"
      },
      "source": [
        "for x in range(65,70):\n",
        "  for y in range(65,70):\n",
        "    print(chr(y),end=\"\")\n",
        "  print()"
      ],
      "execution_count": 27,
      "outputs": [
        {
          "output_type": "stream",
          "text": [
            "ABCDE\n",
            "ABCDE\n",
            "ABCDE\n",
            "ABCDE\n",
            "ABCDE\n"
          ],
          "name": "stdout"
        }
      ]
    },
    {
      "cell_type": "markdown",
      "metadata": {
        "id": "nNMaSLysfe0e"
      },
      "source": [
        "pattern 28"
      ]
    },
    {
      "cell_type": "code",
      "metadata": {
        "colab": {
          "base_uri": "https://localhost:8080/"
        },
        "id": "dEzNQk3ufWC-",
        "outputId": "ba3ccaa5-3f17-48bd-82e3-6f49b3512509"
      },
      "source": [
        "for x in range(69,64,-1):\n",
        "  for y in range(69,64,-1):\n",
        "    print(chr(x),end=\"\")\n",
        "  print()"
      ],
      "execution_count": 30,
      "outputs": [
        {
          "output_type": "stream",
          "text": [
            "EEEEE\n",
            "DDDDD\n",
            "CCCCC\n",
            "BBBBB\n",
            "AAAAA\n"
          ],
          "name": "stdout"
        }
      ]
    },
    {
      "cell_type": "markdown",
      "metadata": {
        "id": "ZlraNk2tgHKV"
      },
      "source": [
        "pattern 29"
      ]
    },
    {
      "cell_type": "code",
      "metadata": {
        "colab": {
          "base_uri": "https://localhost:8080/"
        },
        "id": "VPz_vloGf1tf",
        "outputId": "dadb27f9-1afb-45b8-c4d5-1a08161f8289"
      },
      "source": [
        "for x in range(69,64,-1):\n",
        "  for y in range(69,64,-1):\n",
        "    print(chr(y),end=\"\")\n",
        "  print()"
      ],
      "execution_count": 31,
      "outputs": [
        {
          "output_type": "stream",
          "text": [
            "EDCBA\n",
            "EDCBA\n",
            "EDCBA\n",
            "EDCBA\n",
            "EDCBA\n"
          ],
          "name": "stdout"
        }
      ]
    },
    {
      "cell_type": "markdown",
      "metadata": {
        "id": "ipXPsynngXpi"
      },
      "source": [
        "pattern 30"
      ]
    },
    {
      "cell_type": "code",
      "metadata": {
        "colab": {
          "base_uri": "https://localhost:8080/"
        },
        "id": "MyfrtmTVgSa_",
        "outputId": "466b83b6-f643-457d-92c6-c460a8feb740"
      },
      "source": [
        "for x in range(1,5):\n",
        "  for y in range(0,5):\n",
        "    print(chr(64+x+y),end=\"\")\n",
        "  print()"
      ],
      "execution_count": 33,
      "outputs": [
        {
          "output_type": "stream",
          "text": [
            "ABCDE\n",
            "BCDEF\n",
            "CDEFG\n",
            "DEFGH\n"
          ],
          "name": "stdout"
        }
      ]
    },
    {
      "cell_type": "markdown",
      "metadata": {
        "id": "jZCpzHFDhAXe"
      },
      "source": [
        "pattern 31"
      ]
    },
    {
      "cell_type": "code",
      "metadata": {
        "colab": {
          "base_uri": "https://localhost:8080/"
        },
        "id": "PqbrV96Kgyh8",
        "outputId": "4ed64cd4-5e13-4cd7-b10f-a5b18c3e289f"
      },
      "source": [
        "m=0\n",
        "for x in range(1,6):\n",
        "  for y in range(1,6):\n",
        "    print(chr(65+m),end=\"\")\n",
        "    m+=1\n",
        "  print()"
      ],
      "execution_count": 39,
      "outputs": [
        {
          "output_type": "stream",
          "text": [
            "ABCDE\n",
            "FGHIJ\n",
            "KLMNO\n",
            "PQRST\n",
            "UVWXY\n"
          ],
          "name": "stdout"
        }
      ]
    },
    {
      "cell_type": "markdown",
      "metadata": {
        "id": "x0-M-XNdiFed"
      },
      "source": [
        "pattern 32"
      ]
    },
    {
      "cell_type": "code",
      "metadata": {
        "colab": {
          "base_uri": "https://localhost:8080/"
        },
        "id": "hin2fGrlhWsN",
        "outputId": "7984565b-d65b-49a5-81de-a22362ab53ff"
      },
      "source": [
        "m,n=0,5\n",
        "for x in range(0,5):\n",
        "  p=x\n",
        "  for y in range(1,6):\n",
        "    x+=n\n",
        "    print(chr(x-n+65),end=\"\")\n",
        "    \n",
        "  print()"
      ],
      "execution_count": 47,
      "outputs": [
        {
          "output_type": "stream",
          "text": [
            "AFKPU\n",
            "BGLQV\n",
            "CHMRW\n",
            "DINSX\n",
            "EJOTY\n"
          ],
          "name": "stdout"
        }
      ]
    },
    {
      "cell_type": "code",
      "metadata": {
        "id": "rwdEo7c2iO0Z"
      },
      "source": [
        ""
      ],
      "execution_count": null,
      "outputs": []
    }
  ]
}