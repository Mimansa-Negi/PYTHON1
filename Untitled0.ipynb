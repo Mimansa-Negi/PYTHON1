{
  "nbformat": 4,
  "nbformat_minor": 0,
  "metadata": {
    "colab": {
      "name": "Untitled0.ipynb",
      "provenance": [],
      "collapsed_sections": [],
      "authorship_tag": "ABX9TyN8z2GB0H5d3YbyzRoIo4vz",
      "include_colab_link": true
    },
    "kernelspec": {
      "name": "python3",
      "display_name": "Python 3"
    },
    "language_info": {
      "name": "python"
    }
  },
  "cells": [
    {
      "cell_type": "markdown",
      "metadata": {
        "id": "view-in-github",
        "colab_type": "text"
      },
      "source": [
        "<a href=\"https://colab.research.google.com/github/Mimansa-Negi/PYTHON1/blob/main/Untitled0.ipynb\" target=\"_parent\"><img src=\"https://colab.research.google.com/assets/colab-badge.svg\" alt=\"Open In Colab\"/></a>"
      ]
    },
    {
      "cell_type": "markdown",
      "metadata": {
        "id": "H42Fg1Bcyz-d"
      },
      "source": [
        "Pattern 1"
      ]
    },
    {
      "cell_type": "code",
      "metadata": {
        "colab": {
          "base_uri": "https://localhost:8080/"
        },
        "id": "oICriZRhy9vz",
        "outputId": "7426eaa3-1a77-4de3-ddd5-16d026c15368"
      },
      "source": [
        "for x in range(1,6):\n",
        "  for y in range(1,6):\n",
        "    print(\"*\",end=\"\")\n",
        "  print()"
      ],
      "execution_count": 1,
      "outputs": [
        {
          "output_type": "stream",
          "text": [
            "*****\n",
            "*****\n",
            "*****\n",
            "*****\n",
            "*****\n"
          ],
          "name": "stdout"
        }
      ]
    },
    {
      "cell_type": "markdown",
      "metadata": {
        "id": "Kd7B2tUtzfKv"
      },
      "source": [
        ""
      ]
    },
    {
      "cell_type": "markdown",
      "metadata": {
        "id": "Lwk_ciJyzhye"
      },
      "source": [
        "pattern 2\n"
      ]
    },
    {
      "cell_type": "code",
      "metadata": {
        "colab": {
          "base_uri": "https://localhost:8080/"
        },
        "id": "327yBx1FzcX8",
        "outputId": "5a0cf9c7-4841-49b4-fa96-587afcc8e396"
      },
      "source": [
        "for x in range(1,6):\n",
        "  for y in range(1,6):\n",
        "    print(x,end=\"\")\n",
        "  print()"
      ],
      "execution_count": 3,
      "outputs": [
        {
          "output_type": "stream",
          "text": [
            "11111\n",
            "22222\n",
            "33333\n",
            "44444\n",
            "55555\n"
          ],
          "name": "stdout"
        }
      ]
    },
    {
      "cell_type": "markdown",
      "metadata": {
        "id": "mvNGMxMs2yp_"
      },
      "source": [
        "pattern 3"
      ]
    },
    {
      "cell_type": "code",
      "metadata": {
        "colab": {
          "base_uri": "https://localhost:8080/"
        },
        "id": "vom90TVFz74O",
        "outputId": "c9ae4a3f-a89d-4a16-84fe-50aedacc9c7b"
      },
      "source": [
        "for x in range(1,6):\n",
        "  for y in range(1,6):\n",
        "    print(y,end=\"\")\n",
        "  print()"
      ],
      "execution_count": 4,
      "outputs": [
        {
          "output_type": "stream",
          "text": [
            "12345\n",
            "12345\n",
            "12345\n",
            "12345\n",
            "12345\n"
          ],
          "name": "stdout"
        }
      ]
    },
    {
      "cell_type": "markdown",
      "metadata": {
        "id": "cFmFvZax22tR"
      },
      "source": [
        "pattern 4"
      ]
    },
    {
      "cell_type": "code",
      "metadata": {
        "colab": {
          "base_uri": "https://localhost:8080/"
        },
        "id": "CfLI4OGN0ILt",
        "outputId": "5309b5ba-4f2b-472e-b986-6eecfdb0db8d"
      },
      "source": [
        "for x in range(5,0,-1):\n",
        "  for y in range(5,0,-1):\n",
        "   print(x,end=\"\")\n",
        "  print()"
      ],
      "execution_count": 7,
      "outputs": [
        {
          "output_type": "stream",
          "text": [
            "55555\n",
            "44444\n",
            "33333\n",
            "22222\n",
            "11111\n"
          ],
          "name": "stdout"
        }
      ]
    },
    {
      "cell_type": "markdown",
      "metadata": {
        "id": "dAmlki3g25_M"
      },
      "source": [
        "pattern 5\n"
      ]
    },
    {
      "cell_type": "code",
      "metadata": {
        "colab": {
          "base_uri": "https://localhost:8080/"
        },
        "id": "Cs2GL-5m27zm",
        "outputId": "408ca530-9ce5-403c-e3f7-9141da1e8897"
      },
      "source": [
        "for x in range(5,0,-1):\n",
        "  for y in range(5,0,-1):\n",
        "    print(y,end=\"\")\n",
        "  print()"
      ],
      "execution_count": 8,
      "outputs": [
        {
          "output_type": "stream",
          "text": [
            "54321\n",
            "54321\n",
            "54321\n",
            "54321\n",
            "54321\n"
          ],
          "name": "stdout"
        }
      ]
    },
    {
      "cell_type": "markdown",
      "metadata": {
        "id": "SKLRbvzp3YcH"
      },
      "source": [
        "pattern 6\n"
      ]
    },
    {
      "cell_type": "code",
      "metadata": {
        "colab": {
          "base_uri": "https://localhost:8080/"
        },
        "id": "cwZuZ_0A3QOZ",
        "outputId": "49bf3bb4-4423-45b8-f8ff-f6bf02238bba"
      },
      "source": [
        "n=5\n",
        "k=1\n",
        "for x in range(1,n+1):\n",
        "  for y in range(1,n+1):\n",
        "    print(\"{:2d}\".format(k),end=\"\")\n",
        "    k=k+1\n",
        "  print()"
      ],
      "execution_count": 9,
      "outputs": [
        {
          "output_type": "stream",
          "text": [
            " 1 2 3 4 5\n",
            " 6 7 8 910\n",
            "1112131415\n",
            "1617181920\n",
            "2122232425\n"
          ],
          "name": "stdout"
        }
      ]
    },
    {
      "cell_type": "code",
      "metadata": {
        "id": "pKRMSoLj3-Au"
      },
      "source": [
        ""
      ],
      "execution_count": null,
      "outputs": []
    },
    {
      "cell_type": "markdown",
      "metadata": {
        "id": "OuIcvMTe3__p"
      },
      "source": [
        "pattern 7"
      ]
    },
    {
      "cell_type": "code",
      "metadata": {
        "colab": {
          "base_uri": "https://localhost:8080/"
        },
        "id": "vJyrF_lL4CVf",
        "outputId": "f34241f4-f316-41ca-b2ee-4d342a9eb4d6"
      },
      "source": [
        "n=5\n",
        "k=1\n",
        "for x in range(1,n+1):\n",
        "  for y in range(1,n+1):\n",
        "    print(\"{:2d}\".format(k),end=\"\")\n",
        "    k=k+2\n",
        "  print()"
      ],
      "execution_count": 10,
      "outputs": [
        {
          "output_type": "stream",
          "text": [
            " 1 3 5 7 9\n",
            "1113151719\n",
            "2123252729\n",
            "3133353739\n",
            "4143454749\n"
          ],
          "name": "stdout"
        }
      ]
    },
    {
      "cell_type": "markdown",
      "metadata": {
        "id": "fI9DCpxx4sS8"
      },
      "source": [
        "pattern 8"
      ]
    },
    {
      "cell_type": "code",
      "metadata": {
        "colab": {
          "base_uri": "https://localhost:8080/"
        },
        "id": "JnPcqUFI4ut-",
        "outputId": "cd7946b8-7b8a-4a90-fda6-82b6775c2fde"
      },
      "source": [
        "n=5\n",
        "k=2\n",
        "for x in range(1,n+1):\n",
        "  for y in range(1,n+1):\n",
        "    print(\"{:2d}\".format(k),end=\"\")\n",
        "    k=k+2\n",
        "  print()"
      ],
      "execution_count": 11,
      "outputs": [
        {
          "output_type": "stream",
          "text": [
            " 2 4 6 810\n",
            "1214161820\n",
            "2224262830\n",
            "3234363840\n",
            "4244464850\n"
          ],
          "name": "stdout"
        }
      ]
    },
    {
      "cell_type": "markdown",
      "metadata": {
        "id": "lF7G2YmD46RC"
      },
      "source": [
        "pattern 9"
      ]
    },
    {
      "cell_type": "code",
      "metadata": {
        "colab": {
          "base_uri": "https://localhost:8080/"
        },
        "id": "KX_P1ptv42hO",
        "outputId": "62868c54-4776-4268-df2d-52a3c9ea595d"
      },
      "source": [
        "for x in range(1,6):\n",
        "  for y in range(1,6):\n",
        "    print(\"{}\".format(x*y),end=\"\")\n",
        "  print()"
      ],
      "execution_count": 17,
      "outputs": [
        {
          "output_type": "stream",
          "text": [
            "12345\n",
            "246810\n",
            "3691215\n",
            "48121620\n",
            "510152025\n"
          ],
          "name": "stdout"
        }
      ]
    },
    {
      "cell_type": "code",
      "metadata": {
        "id": "Tz9bGzYN5b4M"
      },
      "source": [
        ""
      ],
      "execution_count": null,
      "outputs": []
    },
    {
      "cell_type": "markdown",
      "metadata": {
        "id": "rb-KKMF06VLz"
      },
      "source": [
        "pattern 10"
      ]
    },
    {
      "cell_type": "code",
      "metadata": {
        "colab": {
          "base_uri": "https://localhost:8080/"
        },
        "id": "VoR-6YQL6XRo",
        "outputId": "1ffbcdbf-172c-4314-d69b-5750ffeaf8c7"
      },
      "source": [
        "for x in range(1,6):\n",
        "  for y in range(1,4):\n",
        "    print(\"{}{}\".format(y,x),end=\"\")\n",
        "  print()"
      ],
      "execution_count": 19,
      "outputs": [
        {
          "output_type": "stream",
          "text": [
            "112131\n",
            "122232\n",
            "132333\n",
            "142434\n",
            "152535\n"
          ],
          "name": "stdout"
        }
      ]
    },
    {
      "cell_type": "markdown",
      "metadata": {
        "id": "pW1QVbti7Kun"
      },
      "source": [
        "pattern 11"
      ]
    },
    {
      "cell_type": "code",
      "metadata": {
        "colab": {
          "base_uri": "https://localhost:8080/"
        },
        "id": "W6PTaDVE64ZQ",
        "outputId": "6d896d57-79a5-44a1-e3fa-b9f1006b6234"
      },
      "source": [
        "for x in range(1,6):\n",
        "  for y in range(1,4):\n",
        "    print(\"{}{}\".format(x,y),end=\"\")\n",
        "  print()"
      ],
      "execution_count": 22,
      "outputs": [
        {
          "output_type": "stream",
          "text": [
            "111213\n",
            "212223\n",
            "313233\n",
            "414243\n",
            "515253\n"
          ],
          "name": "stdout"
        }
      ]
    },
    {
      "cell_type": "markdown",
      "metadata": {
        "id": "hkCqwmoo7eIM"
      },
      "source": [
        "pattern 12"
      ]
    },
    {
      "cell_type": "code",
      "metadata": {
        "colab": {
          "base_uri": "https://localhost:8080/"
        },
        "id": "MK3rXLRU7Z4r",
        "outputId": "29cbc72c-f9a9-46ce-9de7-92bcfcd181f7"
      },
      "source": [
        "n=5\n",
        "for x in range(1,n+1):\n",
        "  p=x\n",
        "  for y in range(1,n+1):\n",
        "    print(\"{:2d}\".format(p),end=\" \")\n",
        "    p+=n\n",
        "  print()\n"
      ],
      "execution_count": 25,
      "outputs": [
        {
          "output_type": "stream",
          "text": [
            " 1  6 11 16 21 \n",
            " 2  7 12 17 22 \n",
            " 3  8 13 18 23 \n",
            " 4  9 14 19 24 \n",
            " 5 10 15 20 25 \n"
          ],
          "name": "stdout"
        }
      ]
    },
    {
      "cell_type": "markdown",
      "metadata": {
        "id": "Qf7_2zPs8bMG"
      },
      "source": [
        "pattern 13"
      ]
    },
    {
      "cell_type": "code",
      "metadata": {
        "colab": {
          "base_uri": "https://localhost:8080/"
        },
        "id": "0ErthrYf8M69",
        "outputId": "0d523178-13e9-43d3-dec5-9f0128f0e95b"
      },
      "source": [
        "n=5\n",
        "for x in range(1,n+1):\n",
        "  p1=x\n",
        "  p2=n-x+1\n",
        "  for y in range(1,n+1):\n",
        "    if(y%2==1):\n",
        "      print(\"{:2d}\".format(p1),end=\" \")\n",
        "    else:\n",
        "      print(\"{:2d}\".format(p2),end=\" \")\n",
        "    p1=p1+n\n",
        "    p2=p2+n\n",
        "  print()\n"
      ],
      "execution_count": 29,
      "outputs": [
        {
          "output_type": "stream",
          "text": [
            " 1 10 11 20 21 \n",
            " 2  9 12 19 22 \n",
            " 3  8 13 18 23 \n",
            " 4  7 14 17 24 \n",
            " 5  6 15 16 25 \n"
          ],
          "name": "stdout"
        }
      ]
    },
    {
      "cell_type": "markdown",
      "metadata": {
        "id": "xx_NZR1E9px_"
      },
      "source": [
        "pattern 14"
      ]
    },
    {
      "cell_type": "code",
      "metadata": {
        "colab": {
          "base_uri": "https://localhost:8080/"
        },
        "id": "EbUnP1oM9P_N",
        "outputId": "95361bb4-5443-4fd0-a798-8ab7f412593f"
      },
      "source": [
        "n=5\n",
        "for x in range(1,n+1):\n",
        "  p=n-x+1\n",
        "  for y in range(1,n+1):\n",
        "    print(\"{:2d}\".format(p),end=\" \")\n",
        "    p=p+n\n",
        "  print()"
      ],
      "execution_count": 31,
      "outputs": [
        {
          "output_type": "stream",
          "text": [
            " 5 10 15 20 25 \n",
            " 4  9 14 19 24 \n",
            " 3  8 13 18 23 \n",
            " 2  7 12 17 22 \n",
            " 1  6 11 16 21 \n"
          ],
          "name": "stdout"
        }
      ]
    },
    {
      "cell_type": "markdown",
      "metadata": {
        "id": "sQ7X7GP6-WAo"
      },
      "source": [
        ""
      ]
    },
    {
      "cell_type": "markdown",
      "metadata": {
        "id": "R-cGJcOA-WWx"
      },
      "source": [
        "pattern 15"
      ]
    },
    {
      "cell_type": "code",
      "metadata": {
        "colab": {
          "base_uri": "https://localhost:8080/"
        },
        "id": "7eR2JcNX-Ppd",
        "outputId": "1938927d-366d-49e2-d9ea-8f2f673bac8b"
      },
      "source": [
        "n=5\n",
        "for x in range(1,n+1):\n",
        "  p1=x\n",
        "  p2=n-x+1\n",
        "  for y in range(1,n+1):\n",
        "    if(y%2==0):\n",
        "     print(\"{:2d}\".format(p1),end=\" \")\n",
        "    else:\n",
        "     print(\"{:2d}\".format(p2),end=\" \")\n",
        "    p1=p1+n\n",
        "    p2=p2+n\n",
        "  print()"
      ],
      "execution_count": 33,
      "outputs": [
        {
          "output_type": "stream",
          "text": [
            " 5  6 15 16 25 \n",
            " 4  7 14 17 24 \n",
            " 3  8 13 18 23 \n",
            " 2  9 12 19 22 \n",
            " 1 10 11 20 21 \n"
          ],
          "name": "stdout"
        }
      ]
    },
    {
      "cell_type": "code",
      "metadata": {
        "id": "3QjEkQA9_JBm"
      },
      "source": [
        ""
      ],
      "execution_count": null,
      "outputs": []
    }
  ]
}