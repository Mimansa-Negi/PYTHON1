{
  "nbformat": 4,
  "nbformat_minor": 0,
  "metadata": {
    "colab": {
      "name": "Untitled4.ipynb",
      "provenance": [],
      "authorship_tag": "ABX9TyPYyaxQqyCJHm9cE5NtI/SQ",
      "include_colab_link": true
    },
    "kernelspec": {
      "name": "python3",
      "display_name": "Python 3"
    },
    "language_info": {
      "name": "python"
    }
  },
  "cells": [
    {
      "cell_type": "markdown",
      "metadata": {
        "id": "view-in-github",
        "colab_type": "text"
      },
      "source": [
        "<a href=\"https://colab.research.google.com/github/Mimansa-Negi/PYTHON1/blob/main/Untitled4.ipynb\" target=\"_parent\"><img src=\"https://colab.research.google.com/assets/colab-badge.svg\" alt=\"Open In Colab\"/></a>"
      ]
    },
    {
      "cell_type": "code",
      "metadata": {
        "colab": {
          "base_uri": "https://localhost:8080/"
        },
        "id": "ywjLvLD0GYnW",
        "outputId": "4441e0c6-7df0-463b-8bb3-a3c0c15a4c82"
      },
      "source": [
        "inlist1=list(map(int,input().split()))\n",
        "inlist2=list(map(int,input().split()))\n",
        "sum1=sum(inlist1)\n",
        "sum2=sum(inlist2)\n",
        "if(sum1!=sum2):\n",
        "    k=False\n",
        "    val1,val2=0,0\n",
        "    for i in inlist1:\n",
        "      for j in inlist2:\n",
        "        newsum1=sum1-i+j\n",
        "        newsum2=sum2-j+i\n",
        "\n",
        "        if newsum1==newsum2:\n",
        "          val1=i\n",
        "          val2=j\n",
        "          k=True\n",
        "          break\n",
        "      if k==True:\n",
        "        break\n",
        "print(val1,val2)"
      ],
      "execution_count": null,
      "outputs": [
        {
          "output_type": "stream",
          "text": [
            "9 8 7\n",
            "8 6 5\n",
            "0 0\n"
          ],
          "name": "stdout"
        }
      ]
    },
    {
      "cell_type": "markdown",
      "metadata": {
        "id": "Tvz_6ueKiz1a"
      },
      "source": [
        "BUBBLE SORT\n"
      ]
    },
    {
      "cell_type": "code",
      "metadata": {
        "id": "TE8JrlxCH_w9",
        "colab": {
          "base_uri": "https://localhost:8080/"
        },
        "outputId": "2682aceb-bb2a-4b9c-8cf8-8f3dee1fdb3d"
      },
      "source": [
        "def bubble_sort(arr):\n",
        "  n=len(arr)\n",
        "  for i in range(n-1):\n",
        "    for j in range(0,n-i-1):\n",
        "      if(arr[j]>arr[j+1]):\n",
        "        arr[j],arr[j+1]=arr[j+1],arr[j]\n",
        "arr=[65,55,78,98,34,21]\n",
        "bubble_sort(arr)\n",
        "for i in range(len(arr)):\n",
        "  print(arr[i])"
      ],
      "execution_count": 3,
      "outputs": [
        {
          "output_type": "stream",
          "text": [
            "21\n",
            "34\n",
            "55\n",
            "65\n",
            "78\n",
            "98\n"
          ],
          "name": "stdout"
        }
      ]
    },
    {
      "cell_type": "markdown",
      "metadata": {
        "id": "2Pl2GSuJj-z5"
      },
      "source": [
        "SELECTION SORT"
      ]
    },
    {
      "cell_type": "code",
      "metadata": {
        "colab": {
          "base_uri": "https://localhost:8080/"
        },
        "id": "xwz-IdoslpDb",
        "outputId": "148c7db4-7563-4f51-a7e2-3511f616c10b"
      },
      "source": [
        "a=[23,43,56,12,1,2,4,56]\n",
        "for i in range(len(a)):\n",
        "  min_idx=i\n",
        "  for j in range(i+1,len(a)):\n",
        "    if a[min_idx]>a[j]:\n",
        "      min_idx=j\n",
        "  a[i],a[min_idx]=a[min_idx],a[i]\n",
        "print(\"sorted in ascending order:\")\n",
        "for i in range(len(a)):\n",
        "  print(a[i])\n"
      ],
      "execution_count": 13,
      "outputs": [
        {
          "output_type": "stream",
          "text": [
            "sorted in ascending order:\n",
            "1\n",
            "2\n",
            "4\n",
            "12\n",
            "23\n",
            "43\n",
            "56\n",
            "56\n"
          ],
          "name": "stdout"
        }
      ]
    },
    {
      "cell_type": "code",
      "metadata": {
        "id": "f3aAxmErmmjf"
      },
      "source": [
        ""
      ],
      "execution_count": null,
      "outputs": []
    }
  ]
}